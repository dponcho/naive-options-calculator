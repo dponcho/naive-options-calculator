{
 "cells": [
  {
   "cell_type": "code",
   "execution_count": null,
   "id": "19532b7e",
   "metadata": {},
   "outputs": [],
   "source": [
    "import yfinance as yf\n",
    "import matplotlib.pyplot as plt\n",
    "import numpy as np\n",
    "import pandas as pd\n",
    "import seaborn as sns\n",
    "sns.set()"
   ]
  },
  {
   "cell_type": "code",
   "execution_count": null,
   "id": "5de7e1f9",
   "metadata": {},
   "outputs": [],
   "source": [
    "# Russell and Nasdaq - 1987-09-10\n",
    "# S&P 500 1962-01-02"
   ]
  },
  {
   "cell_type": "code",
   "execution_count": null,
   "id": "cc555f47",
   "metadata": {},
   "outputs": [],
   "source": [
    "st_date = \"1962-01-02\"\n",
    "ed_date = \"2022-01-02\""
   ]
  },
  {
   "cell_type": "code",
   "execution_count": null,
   "id": "093232ed",
   "metadata": {},
   "outputs": [],
   "source": [
    "ticker = \"^GSPC\""
   ]
  },
  {
   "cell_type": "code",
   "execution_count": null,
   "id": "b5067209",
   "metadata": {},
   "outputs": [],
   "source": [
    "us10 = yf.download(\"^TNX\", start = st_date)\n",
    "us3mo = yf.download(\"^IRX\", start = st_date)\n",
    "stocks = yf.download(ticker, start = st_date)\n",
    "# us10 = yf.download(\"^TNX\", start = st_date, end = ed_date)\n",
    "# us3mo = yf.download(\"^IRX\", start = st_date, end = ed_date)\n",
    "# stocks = yf.download(\"^GSPC\", start = st_date, end = ed_date)"
   ]
  },
  {
   "cell_type": "code",
   "execution_count": null,
   "id": "84c6d23a",
   "metadata": {},
   "outputs": [],
   "source": [
    "spread = us10 - us3mo\n",
    "spread = spread.dropna()"
   ]
  },
  {
   "cell_type": "code",
   "execution_count": null,
   "id": "e3f7c137",
   "metadata": {},
   "outputs": [],
   "source": [
    "rolling = spread[\"Adj Close\"].rolling(200).mean()"
   ]
  },
  {
   "cell_type": "code",
   "execution_count": null,
   "id": "eb7563cd",
   "metadata": {},
   "outputs": [],
   "source": [
    "fig, ax = plt.subplots(figsize = (15,9))\n",
    "ax.plot(spread[\"Adj Close\"], label = \"Spread\")\n",
    "ax.plot(rolling, label = \"SMA\")\n",
    "leg = ax.legend();"
   ]
  },
  {
   "cell_type": "code",
   "execution_count": null,
   "id": "eb10d100",
   "metadata": {},
   "outputs": [],
   "source": [
    "# Number of trading days used to calculate returns\n",
    "# If using the Monte Carlo Options pricer, this number should be the number of trading days\n",
    "# until the option expires.\n",
    "n = 25"
   ]
  },
  {
   "cell_type": "code",
   "execution_count": null,
   "id": "d8c4390b",
   "metadata": {},
   "outputs": [],
   "source": [
    "# Find log returns of stock market and split bond spread into deciles\n",
    "log_spy = np.log(stocks.iloc[n:][\"Adj Close\"].values/stocks.iloc[:-n][\"Adj Close\"].values)\n",
    "log_spy = pd.DataFrame(log_spy, index = stocks.index[:-n], columns = [\"Log Returns\"])\n",
    "trend_spread = spread[\"Adj Close\"] - rolling\n",
    "trend_spread = trend_spread.dropna()\n",
    "binned, bins = pd.qcut(trend_spread, 10, retbins = True)\n",
    "combined = pd.merge(log_spy, binned, right_index = True, left_index = True)"
   ]
  },
  {
   "cell_type": "code",
   "execution_count": null,
   "id": "f8f871c9",
   "metadata": {},
   "outputs": [],
   "source": [
    "# Finding Geometric mean returns of stock market\n",
    "listed_returns = combined.groupby([\"Adj Close\"]).agg(lambda x: list(x))\n",
    "geo_mean = []\n",
    "for i in listed_returns[\"Log Returns\"]:\n",
    "    nparray = np.array(i)\n",
    "    nparray += 1\n",
    "    gmean = 1\n",
    "    for j in nparray:\n",
    "        gmean *= j\n",
    "    gmean = gmean ** (1/(len(nparray))) - 1\n",
    "    geo_mean.append(gmean)"
   ]
  },
  {
   "cell_type": "code",
   "execution_count": null,
   "id": "e43e1507",
   "metadata": {},
   "outputs": [],
   "source": [
    "agg_std = combined.groupby([\"Adj Close\"]).std()\n",
    "agg_mean = combined.groupby([\"Adj Close\"]).mean()\n",
    "agg_median = combined.groupby([\"Adj Close\"]).median()"
   ]
  },
  {
   "cell_type": "code",
   "execution_count": null,
   "id": "d497e14c",
   "metadata": {},
   "outputs": [],
   "source": [
    "anatable = combined.groupby([\"Adj Close\"]).describe()"
   ]
  },
  {
   "cell_type": "code",
   "execution_count": null,
   "id": "da6c7e17",
   "metadata": {},
   "outputs": [],
   "source": [
    "# anatable.to_csv(\"anatable.csv\")"
   ]
  },
  {
   "cell_type": "markdown",
   "id": "bbb0b92e",
   "metadata": {},
   "source": [
    "# Option Pricing Simulator"
   ]
  },
  {
   "cell_type": "markdown",
   "id": "7be2b2ce",
   "metadata": {},
   "source": [
    "## Setup"
   ]
  },
  {
   "cell_type": "code",
   "execution_count": null,
   "id": "8433ef8e",
   "metadata": {},
   "outputs": [],
   "source": [
    "# Get a sorted list of returns grouped by bond spread\n",
    "\n",
    "intervals = set(combined[\"Adj Close\"].values)\n",
    "distr_dict = {}\n",
    "for interval in intervals:\n",
    "    distr_dict[interval] = []\n",
    "    \n",
    "for i in combined.values:\n",
    "    temp_list = distr_dict[i[1]]\n",
    "    temp_list.append(i[0])\n",
    "    distr_dict[i[1]] = temp_list\n",
    "\n",
    "for i in distr_dict:\n",
    "    distr_dict[i].sort()"
   ]
  },
  {
   "cell_type": "code",
   "execution_count": null,
   "id": "a3d4072f",
   "metadata": {},
   "outputs": [],
   "source": [
    "# Normalized samples\n",
    "norm_distr = {}\n",
    "for i in distr_dict:\n",
    "    norm_distr[i] = list(np.array(distr_dict[i]) - agg_mean[\"Log Returns\"][i])"
   ]
  },
  {
   "cell_type": "code",
   "execution_count": null,
   "id": "626873ab",
   "metadata": {},
   "outputs": [],
   "source": [
    "now = trend_spread.iloc[-1]"
   ]
  },
  {
   "cell_type": "code",
   "execution_count": null,
   "id": "a1f1159d",
   "metadata": {},
   "outputs": [],
   "source": [
    "for i in intervals:\n",
    "    if now in i:\n",
    "        interval = i"
   ]
  },
  {
   "cell_type": "code",
   "execution_count": null,
   "id": "e12c158b",
   "metadata": {},
   "outputs": [],
   "source": [
    "spy_price = yf.download(\"SPY\", start = \"2022-06-01\")"
   ]
  },
  {
   "cell_type": "markdown",
   "id": "101737fb",
   "metadata": {},
   "source": [
    "## Simulation"
   ]
  },
  {
   "cell_type": "code",
   "execution_count": null,
   "id": "1d1d2971",
   "metadata": {},
   "outputs": [],
   "source": [
    "# Set to False if you want to incorporate past mean returns into the simulation\n",
    "# Set to True if you want to assume 0 mean return\n",
    "normalized = True"
   ]
  },
  {
   "cell_type": "code",
   "execution_count": null,
   "id": "68f433e9",
   "metadata": {},
   "outputs": [],
   "source": [
    "from math import floor, ceil\n",
    "sample = distr_dict[interval] if normalized == False else norm_distr[interval]\n",
    "runs = 1000000\n",
    "np.random.seed(69)\n",
    "len_sample = len(sample)\n",
    "sample = [-1] + sample + [1]\n",
    "sim = []\n",
    "for i in range(runs):\n",
    "    rng = np.random.random() * (len_sample+1)\n",
    "    low_index, high_index = floor(rng), ceil(rng)\n",
    "    decimal = rng - low_index\n",
    "    intercept = sample[low_index]\n",
    "    slope = sample[high_index] - sample[low_index]\n",
    "    \n",
    "    sim.append(slope * decimal + intercept)"
   ]
  },
  {
   "cell_type": "markdown",
   "id": "d4716362",
   "metadata": {},
   "source": [
    "## Calculator"
   ]
  },
  {
   "cell_type": "code",
   "execution_count": null,
   "id": "2153fd7c",
   "metadata": {},
   "outputs": [],
   "source": [
    "strike = 375\n",
    "option_type = \"call\"\n",
    "current_price = spy_price[\"Adj Close\"].iloc[-1]"
   ]
  },
  {
   "cell_type": "code",
   "execution_count": null,
   "id": "5dfb153e",
   "metadata": {},
   "outputs": [],
   "source": [
    "if option_type == \"put\":\n",
    "    d_sim = strike - np.exp(np.array(sim)) * current_price\n",
    "    print(\"Theoretical put price:\", np.sum(d_sim[d_sim > 0])/runs)\n",
    "elif option_type == \"call\":\n",
    "    d_sim = np.exp(np.array(sim)) * current_price - strike\n",
    "    print(\"Theoretical call price:\", np.sum(d_sim[d_sim > 0])/runs)"
   ]
  },
  {
   "cell_type": "markdown",
   "id": "85006e96",
   "metadata": {},
   "source": [
    "# Analysis"
   ]
  },
  {
   "cell_type": "code",
   "execution_count": null,
   "id": "c801e89f",
   "metadata": {},
   "outputs": [],
   "source": [
    "print(now)"
   ]
  },
  {
   "cell_type": "code",
   "execution_count": null,
   "id": "0c71686a",
   "metadata": {},
   "outputs": [],
   "source": [
    "anatable"
   ]
  },
  {
   "cell_type": "code",
   "execution_count": null,
   "id": "14700d07",
   "metadata": {},
   "outputs": [],
   "source": [
    "index = np.arange(len(agg_std)) + 0.3\n",
    "bar_width = 0.4\n",
    "\n",
    "fig = plt.figure(figsize = (15, 9))\n",
    "fig.subplots_adjust(hspace = 0.4, wspace = 0.4)\n",
    "\n",
    "ax = fig.add_subplot(1,1,1)\n",
    "ax.bar(index, agg_std[\"Log Returns\"], bar_width)\n",
    "ax.xaxis.set_ticks(range(10))\n",
    "ax.hlines(anatable[\"Log Returns\"][\"std\"].iloc[6:].mean(), 6, 10, colors = [\"red\"], linestyles = \"dashed\")\n",
    "ax.hlines(anatable[\"Log Returns\"][\"std\"].iloc[:6].mean(), 0, 6, colors = [\"red\"], linestyles = \"dashed\")\n",
    "ax.set_title(\"Effect on 10Y-3M treasury spread trend on S&P 500 volatility\",{'fontsize': 19})\n",
    "\n",
    "plt.show()"
   ]
  },
  {
   "cell_type": "code",
   "execution_count": null,
   "id": "01c489ae",
   "metadata": {},
   "outputs": [],
   "source": [
    "index = np.arange(len(agg_mean)) + 0.3\n",
    "bar_width = 0.4\n",
    "\n",
    "fig = plt.figure(figsize = (15, 9))\n",
    "fig.subplots_adjust(hspace = 0.4, wspace = 0.4)\n",
    "\n",
    "ax = fig.add_subplot(1,1,1)\n",
    "ax.bar(index, agg_mean[\"Log Returns\"], bar_width)\n",
    "ax.xaxis.set_ticks(range(10))\n",
    "ax.hlines(anatable[\"Log Returns\"][\"mean\"].iloc[6:].mean(), 6, 10, colors = [\"red\"], linestyles = \"dashed\")\n",
    "ax.hlines(anatable[\"Log Returns\"][\"mean\"].iloc[:6].mean(), 0, 6, colors = [\"red\"], linestyles = \"dashed\")\n",
    "ax.set_title(\"Effect on 10Y-3M treasury spread trend on S&P 500 mean returns\",{'fontsize': 19})\n",
    "\n",
    "plt.show()"
   ]
  },
  {
   "cell_type": "code",
   "execution_count": null,
   "id": "f40af2d2",
   "metadata": {},
   "outputs": [],
   "source": [
    "index = np.arange(len(agg_median)) + 0.3\n",
    "bar_width = 0.4\n",
    "\n",
    "fig = plt.figure(figsize = (15, 9))\n",
    "fig.subplots_adjust(hspace = 0.4, wspace = 0.4)\n",
    "\n",
    "ax = fig.add_subplot(1,1,1)\n",
    "ax.bar(index, agg_median[\"Log Returns\"], bar_width)\n",
    "ax.xaxis.set_ticks(range(10))\n",
    "ax.hlines(anatable[\"Log Returns\"][\"50%\"].iloc[6:].mean(), 6, 10, colors = [\"red\"], linestyles = \"dashed\")\n",
    "ax.hlines(anatable[\"Log Returns\"][\"50%\"].iloc[:6].mean(), 0, 6, colors = [\"red\"], linestyles = \"dashed\")\n",
    "ax.set_title(\"Effect on 10Y-3M treasury spread trend on S&P 500 median returns\",{'fontsize': 19})\n",
    "\n",
    "plt.show()"
   ]
  },
  {
   "cell_type": "code",
   "execution_count": null,
   "id": "622ab571",
   "metadata": {},
   "outputs": [],
   "source": []
  }
 ],
 "metadata": {
  "kernelspec": {
   "display_name": "Python 3",
   "language": "python",
   "name": "python3"
  },
  "language_info": {
   "codemirror_mode": {
    "name": "ipython",
    "version": 3
   },
   "file_extension": ".py",
   "mimetype": "text/x-python",
   "name": "python",
   "nbconvert_exporter": "python",
   "pygments_lexer": "ipython3",
   "version": "3.8.8"
  }
 },
 "nbformat": 4,
 "nbformat_minor": 5
}
